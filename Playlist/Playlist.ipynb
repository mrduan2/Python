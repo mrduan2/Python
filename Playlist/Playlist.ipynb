{
 "cells": [
  {
   "cell_type": "code",
   "execution_count": 2,
   "metadata": {},
   "outputs": [],
   "source": [
    "import re,argparse\n",
    "import sys\n",
    "from matplotlib import pyplot\n",
    "import plistlib\n",
    "import numpy as np"
   ]
  },
  {
   "cell_type": "code",
   "execution_count": 3,
   "metadata": {},
   "outputs": [],
   "source": [
    "def findDuplicates(fileNames):\n",
    "    print('Finding duplicate tracks in %s...' % fileName)\n",
    "    # read in a playlist\n",
    "    plist = plistlib.readPlist(fileName)\n",
    "    # get the tracks from the Tracks dictionary\n",
    "    tracks = plist['Tracks']\n",
    "    # create a track name dictionary\n",
    "    trackNames = {}\n",
    "    # iterate through the tracks\n",
    "    for trackId, track in tracks.items():\n",
    "        try:\n",
    "            name = track['Name']\n",
    "            duration = track['Total Time']\n",
    "            # look for existing entries\n",
    "            if name in trackNames:\n",
    "                # if a name and duration match, increment the count\n",
    "                # round the track length to the nearest second\n",
    "                if duration//1000 == trackNames[name][0]//1000:\n",
    "                    count = trackNames[name][1]\n",
    "                    trackNames[name] = (duration, count+1)\n",
    "            else:\n",
    "                # add dictionary emtry as tuple(duration, count)\n",
    "                trackNames[name] = (duration,1)\n",
    "        except:\n",
    "            # ignore\n",
    "            pass\n",
    "    # store duplicates as (name, count) tuples\n",
    "    \n",
    "    dups = []\n",
    "    for k, v in trackNames.items():\n",
    "        if v[1] > 1:\n",
    "            dups.append((v[1], k))\n",
    "        # save duplicates to a file\n",
    "    if len(dups) > 0:\n",
    "        print(\"Found %d duplicates. Track names saved to dup.txt\" % len(dups))\n",
    "    else:\n",
    "        print(\"No duplicate tracks found!\")\n",
    "    f = open(\"dups.txt\", \"w\")\n",
    "    for val in dups:\n",
    "        f.write(\"[%d] %s\\n\" % (val[0], val[1]))\n",
    "        f.close()\n",
    "                        "
   ]
  },
  {
   "cell_type": "code",
   "execution_count": 4,
   "metadata": {},
   "outputs": [],
   "source": [
    "def findCommonTracks(fileNames):\n",
    "    # a list of sets of track names\n",
    "    trackNameSets = []\n",
    "    for fileName in fileNames:\n",
    "        # create a new set\n",
    "        trackNames = set()\n",
    "        # read in playlist\n",
    "        plist = plistlib.readPlist(fileName)\n",
    "        # get the tracks\n",
    "        tracks = plist['Tracks']\n",
    "        # iterate through the tracks\n",
    "        for trackId, track in tracks.items():\n",
    "            try:\n",
    "                # add the track name to set\n",
    "                trackNames.add(track['Name'])\n",
    "            except:\n",
    "                # ignore\n",
    "                pass\n",
    "        # add to list\n",
    "        trackNameSets.append(trackNames)\n",
    "    # get the set of common tracks\n",
    "    commonTracks = set.intersection(*trackNameSets)\n",
    "    # write to file\n",
    "    if len(commonTracks) > 0:\n",
    "        f = open(\"commom.txt\",'w')\n",
    "        for val in commonTracks:\n",
    "            s = \"%s\\n\" % val\n",
    "            f.write(s.encode(\"UTF-8\"))\n",
    "        f.close()\n",
    "        print(\"%d common tracks found.\" \n",
    "              \"Track names written to common.txt.\" % len(commonTracks))\n",
    "    else:\n",
    "        print(\"No common tracks!\")"
   ]
  },
  {
   "cell_type": "code",
   "execution_count": 5,
   "metadata": {},
   "outputs": [],
   "source": [
    "def plotStats(fileName):\n",
    "    # read in a playlist\n",
    "    plist = plistlib.readPlist(fileName)\n",
    "    # get the tracks from the playlist\n",
    "    tracks = plist['Tracks']\n",
    "    # create lists of song ratings and track durations\n",
    "    ratings = []\n",
    "    durations = []\n",
    "    # iterate through the tracks\n",
    "    for trackId, track in tracks.items():\n",
    "        try:\n",
    "            rating.append(track['Album Rating'])\n",
    "            durations.append(track['Total Time'])\n",
    "        except:\n",
    "            #ignore\n",
    "            pass\n",
    "    # ensure that valid data was collected\n",
    "    if ratings == [] or durations ==[]:\n",
    "        print(\"No valid Album Rating/Total Time data in %s.\" % fileName)\n",
    "        return\n",
    "    \n",
    "    # scatter plot\n",
    "    x = np.array(durations, np.int32)\n",
    "    # convert to minutes\n",
    "    x = x/60000.0\n",
    "    y = np.array(ratings, np.int32)\n",
    "    pyplot.subplot(2, 1, 1)\n",
    "    pyplot.plot(x, y, 'o')\n",
    "    pyplot.axis([0, 1.05*np.max(x), -1, 110]) #[xmin, xmax, ymin, ymax]\n",
    "    pyplot.xlabel('Track duration')\n",
    "    pyplot.ylabel('Track rating')\n",
    "    \n",
    "    # plot histogram\n",
    "    pyplot.subplot(2, 1, 2)\n",
    "    pyplot.hist(x, bins=20) \n",
    "    pyplot.xlabel('Track duration')\n",
    "    pyplot.ylabel('Count')\n",
    "    \n",
    "    #show plot\n",
    "    pyplot.show()"
   ]
  },
  {
   "cell_type": "code",
   "execution_count": 6,
   "metadata": {},
   "outputs": [
    {
     "name": "stderr",
     "output_type": "stream",
     "text": [
      "usage: ipykernel_launcher.py [-h] [--common [PLFILES [PLFILES ...]] | --stats\n",
      "                             PLFILE | --dup PLFILED]\n",
      "ipykernel_launcher.py: error: unrecognized arguments: -f C:\\Users\\DB\\AppData\\Roaming\\jupyter\\runtime\\kernel-e0cc2b9a-f30f-430a-91ed-b6a15ad84b12.json\n"
     ]
    },
    {
     "ename": "SystemExit",
     "evalue": "2",
     "output_type": "error",
     "traceback": [
      "An exception has occurred, use %tb to see the full traceback.\n",
      "\u001b[1;31mSystemExit\u001b[0m\u001b[1;31m:\u001b[0m 2\n"
     ]
    },
    {
     "name": "stderr",
     "output_type": "stream",
     "text": [
      "D:\\Program Files\\Anaconda3\\lib\\site-packages\\IPython\\core\\interactiveshell.py:2971: UserWarning: To exit: use 'exit', 'quit', or Ctrl-D.\n",
      "  warn(\"To exit: use 'exit', 'quit', or Ctrl-D.\", stacklevel=1)\n"
     ]
    }
   ],
   "source": [
    "def main():\n",
    "    # create parser\n",
    "    descStr = \"\"\"\n",
    "    This program analyzes playlist files(.xml) exported from iTunes.\n",
    "    \"\"\"\n",
    "    parser = argparse.ArgumentParser(description=descStr) #description=None,    - help时显示的开始文字\n",
    "    # add a mutually exclusive group of arguments\n",
    "    group = parser.add_mutually_exclusive_group()\n",
    "    # add expected arguments\n",
    "    group.add_argument('--common', nargs='*',dest='plFiles',required=False)\n",
    "    group.add_argument('--stats', dest='plFile',required=False)\n",
    "    group.add_argument('--dup', dest='plFileD', required=False)\n",
    "    # parse args\n",
    "    args = parser.parse_args()\n",
    "    if args.plFiles:\n",
    "        # find common tracks\n",
    "        findCommonTracks(args.plFiles)\n",
    "    elif args.plFile:\n",
    "        # plot stats\n",
    "        plotStats(args.plFile)\n",
    "    elif args.plFileD:\n",
    "        # find duplicate tracks\n",
    "        findDuplicates(args.plFileD)\n",
    "    else:\n",
    "        print(\"These are not the tracks you are looking for.\")\n",
    "        \n",
    "    # main\n",
    "if __name__ == '__main__':\n",
    "    main()"
   ]
  },
  {
   "cell_type": "code",
   "execution_count": null,
   "metadata": {},
   "outputs": [],
   "source": []
  }
 ],
 "metadata": {
  "kernelspec": {
   "display_name": "Python 3",
   "language": "python",
   "name": "python3"
  },
  "language_info": {
   "codemirror_mode": {
    "name": "ipython",
    "version": 3
   },
   "file_extension": ".py",
   "mimetype": "text/x-python",
   "name": "python",
   "nbconvert_exporter": "python",
   "pygments_lexer": "ipython3",
   "version": "3.6.5"
  }
 },
 "nbformat": 4,
 "nbformat_minor": 2
}
